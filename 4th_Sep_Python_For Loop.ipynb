{
 "cells": [
  {
   "cell_type": "markdown",
   "id": "015dd9bd",
   "metadata": {},
   "source": [
    "# BASIC LEVEL"
   ]
  },
  {
   "cell_type": "code",
   "execution_count": 1,
   "id": "055cd474",
   "metadata": {},
   "outputs": [],
   "source": [
    "#1. Write a Python program to print the numbers from 1 to 10 using a `for` loop."
   ]
  },
  {
   "cell_type": "code",
   "execution_count": 3,
   "id": "3e77eb1f",
   "metadata": {},
   "outputs": [
    {
     "name": "stdout",
     "output_type": "stream",
     "text": [
      "1 2 3 4 5 6 7 8 9 10 "
     ]
    }
   ],
   "source": [
    "for i in range(1,11):\n",
    "    print(i,end = \" \")"
   ]
  },
  {
   "cell_type": "code",
   "execution_count": 5,
   "id": "fc60ae4d",
   "metadata": {},
   "outputs": [],
   "source": [
    "#2. Create a program that calculates the sum of all numbers in a list using a `for` loop."
   ]
  },
  {
   "cell_type": "code",
   "execution_count": 15,
   "id": "4a3b4845",
   "metadata": {},
   "outputs": [
    {
     "name": "stdout",
     "output_type": "stream",
     "text": [
      "45\n"
     ]
    }
   ],
   "source": [
    "l = [1,2,3,4,5,6,7,8,9]\n",
    "l1=[]\n",
    "for i in l:\n",
    "    l1.append(i)\n",
    "print(sum(l1))\n",
    "    "
   ]
  },
  {
   "cell_type": "code",
   "execution_count": 16,
   "id": "8fff03e7",
   "metadata": {},
   "outputs": [],
   "source": [
    "#3. Write a program to print the characters of a string in reverse order using a `for` loop."
   ]
  },
  {
   "cell_type": "code",
   "execution_count": 49,
   "id": "477f9718",
   "metadata": {},
   "outputs": [
    {
     "name": "stdout",
     "output_type": "stream",
     "text": [
      "The original string is:  harsha\n",
      "The reverse string is ahsrah\n"
     ]
    }
   ],
   "source": [
    "def revstr(str):\n",
    "    str1 = \"\"  \n",
    "    for i in str:  \n",
    "        str1 = i + str1  \n",
    "    return str1 \n",
    "str = 'harsha'\n",
    "print(\"The original string is: \",str)  \n",
    "print(\"The reverse string is\",revstr(str))\n",
    " \n",
    "    "
   ]
  },
  {
   "cell_type": "code",
   "execution_count": 50,
   "id": "eb6e50ae",
   "metadata": {},
   "outputs": [],
   "source": [
    "#4. Develop a program that finds the factorial of a given number using a `for` loop."
   ]
  },
  {
   "cell_type": "code",
   "execution_count": 65,
   "id": "952579f4",
   "metadata": {},
   "outputs": [
    {
     "name": "stdout",
     "output_type": "stream",
     "text": [
      "enter a number :7\n",
      "the factorial of given num  7 is 5040\n"
     ]
    }
   ],
   "source": [
    "n = int(input('enter a number :'))\n",
    "fact = 1\n",
    "for i in range(1,n+1):\n",
    "    fact *= i\n",
    "print(\"the factorial of given num \",n ,\"is\", fact)"
   ]
  },
  {
   "cell_type": "code",
   "execution_count": 66,
   "id": "ba806924",
   "metadata": {},
   "outputs": [],
   "source": [
    "#5. Create a program to print the multiplication table of a given number using a `for` loop."
   ]
  },
  {
   "cell_type": "code",
   "execution_count": 72,
   "id": "88c38b78",
   "metadata": {},
   "outputs": [
    {
     "name": "stdout",
     "output_type": "stream",
     "text": [
      "enter a number :5\n",
      "5  *  1 = 5\n",
      "5  *  2 = 10\n",
      "5  *  3 = 15\n",
      "5  *  4 = 20\n",
      "5  *  5 = 25\n",
      "5  *  6 = 30\n",
      "5  *  7 = 35\n",
      "5  *  8 = 40\n",
      "5  *  9 = 45\n",
      "5  *  10 = 50\n"
     ]
    }
   ],
   "source": [
    "n = int(input(\"enter a number :\"))\n",
    "for i in range(1,11):\n",
    "    print(n,\" * \" ,i, \"=\", n*i )\n",
    "    "
   ]
  },
  {
   "cell_type": "code",
   "execution_count": 73,
   "id": "54a09e77",
   "metadata": {},
   "outputs": [],
   "source": [
    "#6.Write a program that counts the number of even and odd numbers in a list using a `for` loop."
   ]
  },
  {
   "cell_type": "code",
   "execution_count": 93,
   "id": "b29c8c65",
   "metadata": {},
   "outputs": [
    {
     "name": "stdout",
     "output_type": "stream",
     "text": [
      "the count of even numbers is  5\n",
      "the count of odd numbers is  6\n"
     ]
    }
   ],
   "source": [
    "l = [1,2,3,4,5,6,7,8,9,10,11]\n",
    "c = 0 \n",
    "c1 = 0\n",
    "for i in l:\n",
    "    if i%2 ==0:\n",
    "        c +=1\n",
    "    if i%2!=0:\n",
    "        c1 +=1\n",
    "print('the count of even numbers is ',c)\n",
    "print('the count of odd numbers is ',c1)"
   ]
  },
  {
   "cell_type": "code",
   "execution_count": 94,
   "id": "86ee4adb",
   "metadata": {},
   "outputs": [],
   "source": [
    "#7. Develop a program that prints the squares of numbers from 1 to 5 using a `for` loop."
   ]
  },
  {
   "cell_type": "code",
   "execution_count": 97,
   "id": "3b99255a",
   "metadata": {},
   "outputs": [
    {
     "name": "stdout",
     "output_type": "stream",
     "text": [
      "1 4 9 16 25 "
     ]
    }
   ],
   "source": [
    "for i in range(1,6):\n",
    "    print(i*i,end = \" \")"
   ]
  },
  {
   "cell_type": "code",
   "execution_count": 98,
   "id": "8a169633",
   "metadata": {},
   "outputs": [],
   "source": [
    "#8. Create a program to find the length of a string without using the `len()` function."
   ]
  },
  {
   "cell_type": "code",
   "execution_count": 105,
   "id": "f3ff7625",
   "metadata": {},
   "outputs": [
    {
     "name": "stdout",
     "output_type": "stream",
     "text": [
      "18\n"
     ]
    }
   ],
   "source": [
    "s = 'pwskillsandineuron'\n",
    "c = 0\n",
    "for i in s:\n",
    "    c += 1\n",
    "print(c)"
   ]
  },
  {
   "cell_type": "code",
   "execution_count": 106,
   "id": "65b61a54",
   "metadata": {},
   "outputs": [],
   "source": [
    "#9. Write a program that calculates the average of a list of numbers using a `for` loop."
   ]
  },
  {
   "cell_type": "code",
   "execution_count": 107,
   "id": "0258a2b2",
   "metadata": {},
   "outputs": [
    {
     "name": "stdout",
     "output_type": "stream",
     "text": [
      "5.5\n"
     ]
    }
   ],
   "source": [
    "l = [1,2,3,4,5,6,7,8,9,10]\n",
    "a = []\n",
    "for i in l:\n",
    "    a.append(i)\n",
    "print(sum(a)/10)   "
   ]
  },
  {
   "cell_type": "code",
   "execution_count": 108,
   "id": "2c986c62",
   "metadata": {},
   "outputs": [],
   "source": [
    "#10. Develop a program that prints the first `n` Fibonacci numbers using a `for` loop."
   ]
  },
  {
   "cell_type": "code",
   "execution_count": 117,
   "id": "b006f843",
   "metadata": {},
   "outputs": [
    {
     "name": "stdout",
     "output_type": "stream",
     "text": [
      "enter n numbers:8\n",
      "[0, 1, 1, 2, 3, 5, 8]\n"
     ]
    }
   ],
   "source": [
    "n = int(input('enter n numbers:'))\n",
    "l = []\n",
    "n1 = 0\n",
    "n2 = 1\n",
    "c = 0\n",
    "for i in range(1,n) :\n",
    "    if c < n:\n",
    "        l.append(n1)\n",
    "        nth = n1+n2\n",
    "        n1= n2\n",
    "        n2 = nth\n",
    "        c+=1\n",
    "print(l)"
   ]
  },
  {
   "cell_type": "markdown",
   "id": "0dcefd8b",
   "metadata": {},
   "source": [
    "# Intermediate Level"
   ]
  },
  {
   "cell_type": "code",
   "execution_count": 1,
   "id": "2dce41c1",
   "metadata": {},
   "outputs": [],
   "source": [
    "#11. Write a program to check if a given list contains any duplicates using a `for` loop."
   ]
  },
  {
   "cell_type": "code",
   "execution_count": 20,
   "id": "33959498",
   "metadata": {},
   "outputs": [
    {
     "name": "stdout",
     "output_type": "stream",
     "text": [
      "the duplicates in the given list is [5, 2, 4, 3]\n"
     ]
    }
   ],
   "source": [
    "l = [1,2,3,4,5,5,6,2,4,3]\n",
    "l1= []\n",
    "l2 = []\n",
    "for i in l:\n",
    "    if i not in l1:\n",
    "        l1.append(i)\n",
    "    elif i not in l2:\n",
    "        l2.append(i)\n",
    "print(\"the duplicates in the given list is\",l2)   "
   ]
  },
  {
   "cell_type": "code",
   "execution_count": 21,
   "id": "0c52a761",
   "metadata": {},
   "outputs": [],
   "source": [
    "#12. Create a program that prints the prime numbers in a given range using a `for` loop."
   ]
  },
  {
   "cell_type": "code",
   "execution_count": 3,
   "id": "74927339",
   "metadata": {},
   "outputs": [
    {
     "name": "stdout",
     "output_type": "stream",
     "text": [
      "enter a number:25\n",
      "2 3 5 7 11 13 17 19 23 "
     ]
    }
   ],
   "source": [
    "n = int(input('enter a number:'))\n",
    "for i in range(2,n+1):\n",
    "    for j in range(2,n+1):\n",
    "        if i%j==0:\n",
    "            break\n",
    "    if i == j:\n",
    "        print(i,end=\" \")\n",
    "        "
   ]
  },
  {
   "cell_type": "code",
   "execution_count": 4,
   "id": "f44abe18",
   "metadata": {},
   "outputs": [],
   "source": [
    "#13. Develop a program that counts the number of vowels in a string using a `for` loop."
   ]
  },
  {
   "cell_type": "code",
   "execution_count": 6,
   "id": "79bb59e1",
   "metadata": {},
   "outputs": [
    {
     "name": "stdout",
     "output_type": "stream",
     "text": [
      "12\n"
     ]
    }
   ],
   "source": [
    "s = 'pwskills and ineuron are combined now.'\n",
    "v = 'aeiou'\n",
    "c = 0\n",
    "for i in s:\n",
    "    if i in v:\n",
    "        c +=1\n",
    "print(c)\n",
    "        "
   ]
  },
  {
   "cell_type": "code",
   "execution_count": 7,
   "id": "30a6fee8",
   "metadata": {},
   "outputs": [],
   "source": [
    "#14. Write a program to find the maximum element in a 2D list using a nested `for` loop."
   ]
  },
  {
   "cell_type": "code",
   "execution_count": 33,
   "id": "ddc11834",
   "metadata": {},
   "outputs": [
    {
     "name": "stdout",
     "output_type": "stream",
     "text": [
      "51\n"
     ]
    }
   ],
   "source": [
    "l = [[1,2,3],[4,5,6],[12,34,51]]\n",
    "for i in l:\n",
    "    m = -100000\n",
    "    for j in i:\n",
    "        if j>m:\n",
    "            m=j\n",
    "        continue\n",
    "print(m)"
   ]
  },
  {
   "cell_type": "code",
   "execution_count": 34,
   "id": "9acda011",
   "metadata": {},
   "outputs": [],
   "source": [
    "#15. Create a program that removes all occurrences of a specific element from a list using a `for` loop."
   ]
  },
  {
   "cell_type": "code",
   "execution_count": 6,
   "id": "94749940",
   "metadata": {},
   "outputs": [
    {
     "name": "stdout",
     "output_type": "stream",
     "text": [
      "[1, 2, 4, 5, 6, 8, 9, 7]\n"
     ]
    }
   ],
   "source": [
    "l =[1,2,3,4,5,3,6,3,8,3,9,3,7,3]\n",
    "n = 3\n",
    "for i in l:\n",
    "    if i ==3:\n",
    "        l.remove(i)\n",
    "print(l)"
   ]
  },
  {
   "cell_type": "code",
   "execution_count": 7,
   "id": "1a6b8e96",
   "metadata": {},
   "outputs": [],
   "source": [
    "#16. Develop a program that generates a multiplication table for numbers from 1 to 5 using a nested `for` loop."
   ]
  },
  {
   "cell_type": "code",
   "execution_count": 45,
   "id": "b446b62a",
   "metadata": {},
   "outputs": [
    {
     "name": "stdout",
     "output_type": "stream",
     "text": [
      "1 * 1 = 1\n",
      "1 * 2 = 2\n",
      "1 * 3 = 3\n",
      "1 * 4 = 4\n",
      "1 * 5 = 5\n",
      "2 * 1 = 2\n",
      "2 * 2 = 4\n",
      "2 * 3 = 6\n",
      "2 * 4 = 8\n",
      "2 * 5 = 10\n",
      "3 * 1 = 3\n",
      "3 * 2 = 6\n",
      "3 * 3 = 9\n",
      "3 * 4 = 12\n",
      "3 * 5 = 15\n",
      "4 * 1 = 4\n",
      "4 * 2 = 8\n",
      "4 * 3 = 12\n",
      "4 * 4 = 16\n",
      "4 * 5 = 20\n",
      "5 * 1 = 5\n",
      "5 * 2 = 10\n",
      "5 * 3 = 15\n",
      "5 * 4 = 20\n",
      "5 * 5 = 25\n"
     ]
    }
   ],
   "source": [
    "l1 = [1,2,3,4,5]\n",
    "l2 = [1,2,3,4,5]\n",
    "for i in l1:\n",
    "    for j in l2:\n",
    "        print(i,\"*\",j, '=', i*j)"
   ]
  },
  {
   "cell_type": "code",
   "execution_count": 46,
   "id": "71ec8a56",
   "metadata": {},
   "outputs": [],
   "source": [
    "#17. Write a program that converts a list of Fahrenheit temperatures to Celsius using a `for` loop."
   ]
  },
  {
   "cell_type": "code",
   "execution_count": 80,
   "id": "f4fbbc8f",
   "metadata": {},
   "outputs": [
    {
     "name": "stdout",
     "output_type": "stream",
     "text": [
      "[35.55555555555556, 36.11111111111111, 36.666666666666664, 37.22222222222222, 37.77777777777778, 38.333333333333336]"
     ]
    }
   ],
   "source": [
    "l = [96,97,98,99,100,101]\n",
    "l1 = []\n",
    "for i in l:\n",
    "    c = (i-32)/1.8\n",
    "    l1.append(c)\n",
    "    \n",
    "print(l1,end=\"\")"
   ]
  },
  {
   "cell_type": "code",
   "execution_count": 81,
   "id": "80e690e2",
   "metadata": {},
   "outputs": [],
   "source": [
    "#18. Create a program to print the common elements from two lists using a `for` loop."
   ]
  },
  {
   "cell_type": "code",
   "execution_count": 84,
   "id": "a6d2701c",
   "metadata": {},
   "outputs": [
    {
     "name": "stdout",
     "output_type": "stream",
     "text": [
      "3 4 5 6 7 "
     ]
    }
   ],
   "source": [
    "l1 = [1,2,3,4,5,6,7]\n",
    "l2 = [3,4,5,6,7,8,9]\n",
    "for i in l1:\n",
    "    for j in l2:\n",
    "        if i==j:\n",
    "            print(i,end=' ')"
   ]
  },
  {
   "cell_type": "code",
   "execution_count": 85,
   "id": "e3650a39",
   "metadata": {},
   "outputs": [],
   "source": [
    "#19. Develop a program that prints the pattern of right-angled triangles using a `for` loop. Use ‘*’ to draw the pattern"
   ]
  },
  {
   "cell_type": "code",
   "execution_count": 94,
   "id": "2c505a5d",
   "metadata": {},
   "outputs": [
    {
     "name": "stdout",
     "output_type": "stream",
     "text": [
      "enter a number:6\n",
      "* \n",
      "** \n",
      "*** \n",
      "**** \n",
      "***** \n",
      "****** \n"
     ]
    }
   ],
   "source": [
    "n = int(input('enter a number:'))\n",
    "for i in range(n):\n",
    "    for j in range(i+1):\n",
    "        print(\"*\",end='')\n",
    "    print(\" \")"
   ]
  },
  {
   "cell_type": "code",
   "execution_count": 96,
   "id": "5541d1b3",
   "metadata": {},
   "outputs": [],
   "source": [
    "#20. Write a program to find the greatest common divisor (GCD) of two numbers using a `for` loop."
   ]
  },
  {
   "cell_type": "code",
   "execution_count": 101,
   "id": "c9968750",
   "metadata": {},
   "outputs": [
    {
     "name": "stdout",
     "output_type": "stream",
     "text": [
      "enter a number: 10\n",
      "enter a number: 15\n",
      "GCD of the given numbers is  5\n"
     ]
    }
   ],
   "source": [
    "n1 = int(input('enter a number: '))\n",
    "n2 = int(input('enter a number: '))\n",
    "gcd = 1\n",
    "for i in range(1,100):\n",
    "    if (n1%i == 0 and n2%i == 0):\n",
    "        gcd = i\n",
    "print('GCD of the given numbers is ',+gcd)    "
   ]
  },
  {
   "cell_type": "markdown",
   "id": "8cb396fd",
   "metadata": {},
   "source": [
    "# Advanced Level:"
   ]
  },
  {
   "cell_type": "code",
   "execution_count": 102,
   "id": "e69abc01",
   "metadata": {},
   "outputs": [],
   "source": [
    "#21. Create a program that calculates the sum of the digits of numbers in a list using a list comprehension"
   ]
  },
  {
   "cell_type": "code",
   "execution_count": 113,
   "id": "d5e34058",
   "metadata": {},
   "outputs": [
    {
     "name": "stdout",
     "output_type": "stream",
     "text": [
      "45\n"
     ]
    }
   ],
   "source": [
    "l = [1,2,3,4,5,6,7,8,9]\n",
    "s = (sum([i for i in l]))\n",
    "print(s)"
   ]
  },
  {
   "cell_type": "code",
   "execution_count": 115,
   "id": "9476ca19",
   "metadata": {},
   "outputs": [],
   "source": [
    "#23. Develop a program that extracts unique elements from a list and stores them in a new list using a list comprehension."
   ]
  },
  {
   "cell_type": "code",
   "execution_count": 130,
   "id": "698a2122",
   "metadata": {},
   "outputs": [
    {
     "data": {
      "text/plain": [
       "[1, 2, 3, 4, 5, 6, 7]"
      ]
     },
     "execution_count": 130,
     "metadata": {},
     "output_type": "execute_result"
    }
   ],
   "source": [
    "l = [1,2,1,2,1,3,1,4,2,5,2,6,1,7,1]\n",
    "l1 = []\n",
    "u = [l1.append(i) for i in l if i not in l1]\n",
    "l1"
   ]
  },
  {
   "cell_type": "code",
   "execution_count": 131,
   "id": "00513fd0",
   "metadata": {},
   "outputs": [],
   "source": [
    "#24. Create a program that generates a list of all palindromic numbers up to a specified limit using a list comprehension."
   ]
  },
  {
   "cell_type": "code",
   "execution_count": 8,
   "id": "66429cb5",
   "metadata": {},
   "outputs": [
    {
     "name": "stdout",
     "output_type": "stream",
     "text": [
      "enter a lower_limit :100\n",
      "enter a upper_limit :1000\n",
      "[1, 3, 5, 7, 9, 11, 33, 55, 77, 99, 101, 111, 121, 131, 141, 151, 161, 171, 181, 191, 303, 313, 323, 333, 343, 353, 363, 373, 383, 393, 505, 515, 525, 535, 545, 555, 565, 575, 585, 595, 707, 717, 727, 737, 747, 757, 767, 777, 787, 797, 909, 919, 929, 939, 949, 959, 969, 979, 989, 999]"
     ]
    }
   ],
   "source": [
    "n1 = int(input('enter a lower_limit :'))\n",
    "n2 = int(input('enter a upper_limit :'))\n",
    "p = [i for i in range(1,n2+1) if i%2!=0 and str(i) == str(i)[::-1]]\n",
    "print(p,end='')"
   ]
  },
  {
   "cell_type": "code",
   "execution_count": 9,
   "id": "0c64f368",
   "metadata": {},
   "outputs": [],
   "source": [
    "#25. Write a program to flatten a nested list using list comprehension."
   ]
  },
  {
   "cell_type": "code",
   "execution_count": 25,
   "id": "4ab717ea",
   "metadata": {},
   "outputs": [
    {
     "name": "stdout",
     "output_type": "stream",
     "text": [
      "[1, 2, 3, 4, 5, 6, 7, 8, 9]\n"
     ]
    }
   ],
   "source": [
    "l = [[1,2,3],[4,5,6],[7,8,9]]\n",
    "f  = [j for i in l for j in i ]\n",
    "print(f)"
   ]
  },
  {
   "cell_type": "code",
   "execution_count": 26,
   "id": "453d8f4b",
   "metadata": {},
   "outputs": [],
   "source": [
    "#26. Develop a program that computes the sum of even and odd numbers in a list separately using list comprehension.\n"
   ]
  },
  {
   "cell_type": "code",
   "execution_count": 66,
   "id": "9421a475",
   "metadata": {},
   "outputs": [
    {
     "name": "stdout",
     "output_type": "stream",
     "text": [
      "the sum of even numbers is  30\n",
      "the sum of odd numbers is  49\n"
     ]
    }
   ],
   "source": [
    "l = [1,2,3,4,5,6,7,8,9,10,11,13]\n",
    "l1 = [i for i in l if i%2 ==0]\n",
    "l2 = [i for i in l if i%2!=0 ]\n",
    "print('the sum of even numbers is ',sum(l1))\n",
    "print('the sum of odd numbers is ',sum(l2))"
   ]
  },
  {
   "cell_type": "code",
   "execution_count": 47,
   "id": "b2308fe5",
   "metadata": {},
   "outputs": [],
   "source": [
    "#27. Create a program that generates a list of squares of odd numbers between 1 and 10 using list comprehension."
   ]
  },
  {
   "cell_type": "code",
   "execution_count": 49,
   "id": "27e54b47",
   "metadata": {},
   "outputs": [
    {
     "name": "stdout",
     "output_type": "stream",
     "text": [
      "[1, 9, 25, 49, 81]\n"
     ]
    }
   ],
   "source": [
    "l = [i*i for i in range(1,11) if i%2!=0]\n",
    "print(l)"
   ]
  },
  {
   "cell_type": "code",
   "execution_count": 50,
   "id": "4b637015",
   "metadata": {},
   "outputs": [],
   "source": [
    "#28. Write a program that combines two lists into a dictionary using list comprehension."
   ]
  },
  {
   "cell_type": "code",
   "execution_count": 78,
   "id": "13a389b6",
   "metadata": {},
   "outputs": [
    {
     "data": {
      "text/plain": [
       "[{1: 'p', 2: 'w', 3: 's', 4: 'k', 5: 'l', 6: 'l', 7: 'i', 8: 's'}]"
      ]
     },
     "execution_count": 78,
     "metadata": {},
     "output_type": "execute_result"
    }
   ],
   "source": [
    "l1 = [1,2,3,4,5,6,7,8]\n",
    "l2 = ['p','w','s','k','l','l','i','s']\n",
    "d = [dict(zip(l1,l2))]\n",
    "d"
   ]
  },
  {
   "cell_type": "code",
   "execution_count": 65,
   "id": "7180202a",
   "metadata": {},
   "outputs": [],
   "source": [
    "#29. Develop a program that extracts the vowels from a string and stores them in a list using list comprehension."
   ]
  },
  {
   "cell_type": "code",
   "execution_count": 112,
   "id": "a51590f9",
   "metadata": {},
   "outputs": [
    {
     "data": {
      "text/plain": [
       "['i', 'a', 'i', 'e', 'u', 'o', 'a', 'e', 'o', 'e', 'i', 'i', 'u', 'i', 'o']"
      ]
     },
     "execution_count": 112,
     "metadata": {},
     "output_type": "execute_result"
    }
   ],
   "source": [
    "s = 'pwskills and ineuron are one institution'\n",
    "v = {\n",
    "    \"a\": 0, \"e\": 0, \"i\": 0, \"o\": 0, \"u\": 0}\n",
    "l = list(filter(lambda i: i[0] in v.keys(), s))\n",
    "l"
   ]
  },
  {
   "cell_type": "code",
   "execution_count": 113,
   "id": "8c506faf",
   "metadata": {},
   "outputs": [],
   "source": [
    "#30. Create a program that removes all non-numeric characters from a list of strings using list comprehension."
   ]
  },
  {
   "cell_type": "code",
   "execution_count": 122,
   "id": "b39b78b4",
   "metadata": {},
   "outputs": [
    {
     "data": {
      "text/plain": [
       "['ineuron', 'and', 'pwskills']"
      ]
     },
     "execution_count": 122,
     "metadata": {},
     "output_type": "execute_result"
    }
   ],
   "source": [
    "l = ['5ineu365ron','46and','365pws012kills']\n",
    "d = [''.join(j for j in i if j.isalpha()) for i in l]\n",
    "d\n"
   ]
  },
  {
   "cell_type": "markdown",
   "id": "841e3af8",
   "metadata": {},
   "source": [
    "# Challenge Level"
   ]
  },
  {
   "cell_type": "code",
   "execution_count": 1,
   "id": "2514c6f0",
   "metadata": {},
   "outputs": [],
   "source": [
    "#31. Write a program to generate a list of prime numbers using the Sieve of Eratosthenes algorithm and list comprehension."
   ]
  },
  {
   "cell_type": "code",
   "execution_count": 6,
   "id": "e8764d9d",
   "metadata": {},
   "outputs": [
    {
     "name": "stdout",
     "output_type": "stream",
     "text": [
      "Following are the prime numbers smaller\n",
      "than or equal to 20 2\n",
      "3\n",
      "5\n",
      "7\n",
      "11\n",
      "13\n",
      "17\n",
      "19\n"
     ]
    }
   ],
   "source": [
    "def SieveOfEratosthenes(n):\n",
    "    prime = [True for i in range(n+1)]\n",
    "    p = 2\n",
    "    while (p * p <= n):\n",
    "        if (prime[p] == True):\n",
    "            for i in range(p * p, n+1, p):\n",
    "                prime[i] = False\n",
    "        p += 1\n",
    "    for p in range(2, n+1):\n",
    "        if prime[p]:\n",
    "            print(p)\n",
    "            \n",
    "if __name__ == '__main__':\n",
    "    n = 20\n",
    "    print(\"Following are the prime numbers smaller\"),\n",
    "    print(\"than or equal to\", n,end=' ')\n",
    "    SieveOfEratosthenes(n)"
   ]
  },
  {
   "cell_type": "code",
   "execution_count": 7,
   "id": "601d5585",
   "metadata": {},
   "outputs": [],
   "source": [
    "#32. Create a program that generates a list of all Pythagorean triplets up to a specified limit using list comprehension."
   ]
  },
  {
   "cell_type": "code",
   "execution_count": 18,
   "id": "392586ce",
   "metadata": {},
   "outputs": [
    {
     "name": "stdout",
     "output_type": "stream",
     "text": [
      "Enter the limit: 30\n",
      "[(3, 4, 5), (5, 12, 13), (6, 8, 10), (7, 24, 25), (8, 15, 17), (9, 12, 15), (10, 24, 26), (12, 16, 20), (15, 20, 25), (18, 24, 30), (20, 21, 29)]\n"
     ]
    }
   ],
   "source": [
    "n = int(input('Enter the limit: '))\n",
    "print([(a, b, c) for a in range(1, n + 1) for b in range(a, n + 1)\n",
    "       for c in range(b, n + 1) if a**2 + b**2 == c**2])"
   ]
  },
  {
   "cell_type": "code",
   "execution_count": 17,
   "id": "dd0e817a",
   "metadata": {},
   "outputs": [
    {
     "name": "stdout",
     "output_type": "stream",
     "text": [
      "enter the limit: 30\n",
      "[(3, 4, 5), (5, 12, 13), (7, 24, 25), (16, 30, 34)]\n"
     ]
    }
   ],
   "source": [
    "#alternative way\n",
    "n = int(input('enter the limit: '))\n",
    "a,b,c=0,0,0\n",
    "m = 2\n",
    "t = []\n",
    "while c<n:\n",
    "    for i in range(1,m,1):\n",
    "        a = m*m-i*i\n",
    "        b = 2*m*i\n",
    "        c = m*m+i*i\n",
    "        \n",
    "        if c>n:\n",
    "            break\n",
    "    t.append((a,b,c))\n",
    "    m +=1\n",
    "print(t)        "
   ]
  },
  {
   "cell_type": "code",
   "execution_count": 19,
   "id": "b4a8dedb",
   "metadata": {},
   "outputs": [],
   "source": [
    "#33. Develop a program that generates a list of all possible combinations of two lists using list comprehension."
   ]
  },
  {
   "cell_type": "code",
   "execution_count": 36,
   "id": "9aadf4e3",
   "metadata": {},
   "outputs": [
    {
     "name": "stdout",
     "output_type": "stream",
     "text": [
      "[['p', 1], ['p', 2], ['p', 3], ['w', 1], ['w', 2], ['w', 3], ['s', 1], ['s', 2], ['s', 3], ['k', 1], ['k', 2], ['k', 3], ['i', 1], ['i', 2], ['i', 3], ['l', 1], ['l', 2], ['l', 3], ['s', 1], ['s', 2], ['s', 3]]"
     ]
    }
   ],
   "source": [
    "l1 = ['p','w','s','k','i','l','s']\n",
    "l2 = [1,2,3]\n",
    "l = [[i,j] for i in l1 for j in l2]\n",
    "print(l,end = '')"
   ]
  },
  {
   "cell_type": "code",
   "execution_count": 38,
   "id": "543431db",
   "metadata": {},
   "outputs": [],
   "source": [
    "#34. Write a program that calculates the mean, median, and mode of a list of numbers using list comprehension."
   ]
  },
  {
   "cell_type": "code",
   "execution_count": 56,
   "id": "db5ef0bf",
   "metadata": {},
   "outputs": [
    {
     "name": "stdout",
     "output_type": "stream",
     "text": [
      "(5.2, 5.5, [8])\n"
     ]
    }
   ],
   "source": [
    "from collections import Counter\n",
    "l = [1,2,3,4,5,6,7,8,8,8]\n",
    "mean = 0\n",
    "median = 0\n",
    "mode = 0\n",
    "y = Counter(l)\n",
    "findmode = dict(y)\n",
    "x = len(l)\n",
    "l.sort()\n",
    "mean = sum(l)/x\n",
    "if x % 2 == 0:\n",
    "    median1 = l[x//2]\n",
    "    median2 = l[x//2 - 1]\n",
    "    median = (median1 + median2)/2\n",
    "else:\n",
    "    median = x/2\n",
    "mode = [i for i, v in findmode.items() if v == max(y.values())]  \n",
    "if len(mode) == x:\n",
    "    findMode = \"The group of number do not have any mode\"\n",
    "else:\n",
    "    findMode = \"The mode of a number is / are: \" + ', '.join(map(str, mode))\n",
    "print((mean,median,mode))"
   ]
  },
  {
   "cell_type": "code",
   "execution_count": 57,
   "id": "6cc0cf0e",
   "metadata": {},
   "outputs": [],
   "source": [
    "#35. Create a program that generates Pascal's triangle up to a specified number of rows using list comprehension.\n"
   ]
  },
  {
   "cell_type": "code",
   "execution_count": 64,
   "id": "dbf8e50c",
   "metadata": {},
   "outputs": [
    {
     "name": "stdout",
     "output_type": "stream",
     "text": [
      "      1 \n",
      "     1 1 \n",
      "    1 2 1 \n",
      "   1 3 3 1 \n",
      "  1 4 6 4 1 \n"
     ]
    }
   ],
   "source": [
    "from math import factorial\n",
    "n = 5\n",
    "for i in range(n):\n",
    "    for j in range(n-i+1):\n",
    "        print(end=\" \")\n",
    " \n",
    "    for j in range(i+1):\n",
    "        print(factorial(i)//(factorial(j)*factorial(i-j)), end=\" \")\n",
    " \n",
    "\n",
    "    print()"
   ]
  },
  {
   "cell_type": "code",
   "execution_count": 65,
   "id": "0454fe8b",
   "metadata": {},
   "outputs": [],
   "source": [
    "#36. Develop a program that calculates the sum of the digits of a factorial of numbers from 1 to 5 using list comprehension."
   ]
  },
  {
   "cell_type": "code",
   "execution_count": 68,
   "id": "450c1be2",
   "metadata": {},
   "outputs": [
    {
     "name": "stdout",
     "output_type": "stream",
     "text": [
      "54\n",
      "216\n"
     ]
    }
   ],
   "source": [
    "def sum_of_digits_factorial(n):\n",
    "    fact = 1\n",
    "    for i in range(2, n+1):\n",
    "        fact *= i\n",
    "    sum_of_digits = 0\n",
    "    for digit in str(fact):\n",
    "        sum_of_digits += int(digit)\n",
    "    return sum_of_digits\n",
    "print(sum_of_digits_factorial(20))\n",
    "print(sum_of_digits_factorial(50))\n"
   ]
  },
  {
   "cell_type": "code",
   "execution_count": 69,
   "id": "985814aa",
   "metadata": {},
   "outputs": [],
   "source": [
    "#37. Write a program that finds the longest word in a sentence using list comprehension."
   ]
  },
  {
   "cell_type": "code",
   "execution_count": 70,
   "id": "edc79ed2",
   "metadata": {},
   "outputs": [
    {
     "name": "stdout",
     "output_type": "stream",
     "text": [
      "institute\n"
     ]
    }
   ],
   "source": [
    "def longest_word(text):\n",
    "    s = max(text.split(), key = len)\n",
    "    return(s)\n",
    "\n",
    "if __name__ == \"__main__\":\n",
    "    print(longest_word(\"pwskills is a useful institute\"))"
   ]
  },
  {
   "cell_type": "code",
   "execution_count": 71,
   "id": "da94bafd",
   "metadata": {},
   "outputs": [],
   "source": [
    "#38. Create a program that filters a list of strings to include only those with more than three vowels using listcomprehension."
   ]
  },
  {
   "cell_type": "code",
   "execution_count": 73,
   "id": "3468a98c",
   "metadata": {},
   "outputs": [
    {
     "name": "stdout",
     "output_type": "stream",
     "text": [
      "Maximum vowels word : datascience\n"
     ]
    }
   ],
   "source": [
    "test_list = ['pw','ineuron','skills','datascience']\n",
    "res = \"\"\n",
    "max_len = 0\n",
    "\n",
    "for ele in test_list:\n",
    "    vow_len = len([el for el in ele if el in ['a', 'e', 'o', 'u', 'i']])\n",
    "\n",
    "    if vow_len > max_len:\n",
    "        max_len = vow_len\n",
    "        res = ele\n",
    "print(\"Maximum vowels word : \" + str(res))\n"
   ]
  },
  {
   "cell_type": "code",
   "execution_count": 74,
   "id": "e180dbf6",
   "metadata": {},
   "outputs": [],
   "source": [
    "#39. Develop a program that calculates the sum of the digits of numbers from 1 to 1000 using listcomprehension."
   ]
  },
  {
   "cell_type": "code",
   "execution_count": 87,
   "id": "3eccce57",
   "metadata": {},
   "outputs": [
    {
     "data": {
      "text/plain": [
       "[500500]"
      ]
     },
     "execution_count": 87,
     "metadata": {},
     "output_type": "execute_result"
    }
   ],
   "source": [
    "l = [sum(range(1,1001))]\n",
    "l"
   ]
  },
  {
   "cell_type": "code",
   "execution_count": 88,
   "id": "aefd35d6",
   "metadata": {},
   "outputs": [],
   "source": [
    "#. Write a program that generates a list of prime palindromic numbers using list comprehension."
   ]
  },
  {
   "cell_type": "code",
   "execution_count": 92,
   "id": "a11e35b6",
   "metadata": {},
   "outputs": [
    {
     "name": "stdout",
     "output_type": "stream",
     "text": [
      "[2, 3, 5, 7, 11, 101, 131, 151, 181, 191, 313, 353, 373, 383, 727, 757, 787, 797, 919, 929]\n"
     ]
    }
   ],
   "source": [
    "counting_list = [x for x in range(0,1001)]\n",
    "\n",
    "def prime_check(a_list):\n",
    "    prime_list = []\n",
    "    for k in a_list:\n",
    "        count = 2.0\n",
    "        d_test = 0\n",
    "        while count < k:\n",
    "            if k % count == 0:\n",
    "                d_test += 1\n",
    "                count += 1\n",
    "            else:\n",
    "                count += 1\n",
    "        if d_test < 1 and k > 1:\n",
    "            prime_list.append(k)\n",
    "\n",
    "    return prime_list\n",
    "\n",
    "def palindrome_check(num_list):\n",
    "    palindrome_list = []\n",
    "    for i in num_list:\n",
    "        temp = str(i)\n",
    "        if temp == temp[::-1]:\n",
    "            palindrome_list.append(i)\n",
    "\n",
    "    return palindrome_list\n",
    "print((palindrome_check(prime_check(counting_list))))"
   ]
  },
  {
   "cell_type": "code",
   "execution_count": null,
   "id": "51e3752c",
   "metadata": {},
   "outputs": [],
   "source": []
  }
 ],
 "metadata": {
  "kernelspec": {
   "display_name": "Python 3 (ipykernel)",
   "language": "python",
   "name": "python3"
  },
  "language_info": {
   "codemirror_mode": {
    "name": "ipython",
    "version": 3
   },
   "file_extension": ".py",
   "mimetype": "text/x-python",
   "name": "python",
   "nbconvert_exporter": "python",
   "pygments_lexer": "ipython3",
   "version": "3.9.7"
  }
 },
 "nbformat": 4,
 "nbformat_minor": 5
}
